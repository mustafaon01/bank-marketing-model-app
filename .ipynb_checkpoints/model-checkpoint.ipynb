{
 "cells": [
  {
   "cell_type": "code",
   "execution_count": 2,
   "metadata": {},
   "outputs": [],
   "source": [
    "import pandas as pd\n",
    "import numpy as np\n",
    "from sklearn.model_selection import train_test_split\n",
    "from sklearn.preprocessing import StandardScaler\n",
    "import random\n",
    "import warnings\n",
    "warnings.filterwarnings(\"ignore\")\n",
    "from sklearn.feature_selection import RFE, SelectKBest, mutual_info_classif\n",
    "from sklearn.model_selection import GridSearchCV\n",
    "from sklearn import metrics\n",
    "from sklearn.linear_model import LogisticRegression\n",
    "\n",
    "import matplotlib.pyplot as plt\n",
    "import seaborn as sns\n",
    "%matplotlib inline\n",
    "from imblearn.over_sampling import RandomOverSampler "
   ]
  },
  {
   "cell_type": "code",
   "execution_count": 3,
   "metadata": {},
   "outputs": [
    {
     "name": "stdout",
     "output_type": "stream",
     "text": [
      "Number of samples:  4119\n"
     ]
    }
   ],
   "source": [
    "df = pd.read_csv('bank-additional.csv', sep=';')\n",
    "# Prints the number of samples (rows) in the DataFrame\n",
    "print ('Number of samples: ',len(df))"
   ]
  },
  {
   "cell_type": "markdown",
   "metadata": {},
   "source": [
    "Data Cleaning(Handing Missing Values)"
   ]
  },
  {
   "cell_type": "code",
   "execution_count": 4,
   "metadata": {},
   "outputs": [
    {
     "name": "stdout",
     "output_type": "stream",
     "text": [
      "\n",
      "Missing values:\n",
      "age                  0\n",
      "job                 39\n",
      "marital             11\n",
      "education          167\n",
      "default            803\n",
      "housing            105\n",
      "loan               105\n",
      "contact              0\n",
      "month                0\n",
      "day_of_week          0\n",
      "duration             0\n",
      "campaign             0\n",
      "pdays                0\n",
      "previous             0\n",
      "poutcome          3523\n",
      "emp.var.rate         0\n",
      "cons.price.idx       0\n",
      "cons.conf.idx        0\n",
      "euribor3m            0\n",
      "nr.employed          0\n",
      "y                    0\n",
      "dtype: int64\n",
      "\n",
      "Number of duplicate rows: 1\n"
     ]
    }
   ],
   "source": [
    "# Handle missing values\n",
    "df = df.replace('unknown', np.nan)\n",
    "df = df.replace('nonexistent', np.nan)\n",
    "\n",
    "# Print the count of missing values for each column\n",
    "print(\"\\nMissing values:\")\n",
    "print(df.isnull().sum())\n",
    "\n",
    "# Drop columns with high missing values or columns that are not useful for modeling\n",
    "df = df.drop([\"day_of_week\", \"month\", \"default\", \"euribor3m\"], axis='columns')\n",
    "\n",
    "# Handle missing values by filling them with the mode (most frequent value) of each respective column\n",
    "df['job'].fillna(df['job'].mode()[0], inplace=True)\n",
    "df['education'].fillna(df['education'].mode()[0], inplace=True)\n",
    "df['marital'].fillna(df['marital'].mode()[0], inplace=True)\n",
    "df['housing'].fillna(df['housing'].mode()[0], inplace=True)\n",
    "df['loan'].fillna(df['loan'].mode()[0], inplace=True)\n",
    "df['poutcome'].fillna(df['poutcome'].mode()[0], inplace=True)\n",
    "\n",
    "# Check for duplicate rows\n",
    "duplicate_rows = df[df.duplicated()]\n",
    "print(\"\\nNumber of duplicate rows:\", len(duplicate_rows))\n"
   ]
  },
  {
   "cell_type": "code",
   "execution_count": 5,
   "metadata": {},
   "outputs": [],
   "source": [
    "# Separate features X and target variable y\n",
    "X = df.drop('y', axis=1)\n",
    "y = df['y']\n",
    "# Split the data into training and testing sets\n",
    "X_train, X_test, y_train, y_test = train_test_split(X, y, test_size=0.2, random_state=42)"
   ]
  },
  {
   "cell_type": "code",
   "execution_count": 6,
   "metadata": {},
   "outputs": [
    {
     "name": "stdout",
     "output_type": "stream",
     "text": [
      "y\n",
      "no     3668\n",
      "yes     451\n",
      "Name: count, dtype: int64\n"
     ]
    }
   ],
   "source": [
    "# Prints the count of \"yes\" and \"no\"s\n",
    "print(y.value_counts())"
   ]
  },
  {
   "cell_type": "markdown",
   "metadata": {},
   "source": [
    "As seen above we have an imbalanced dataset. Therefore we prefer doing oversampling to get a balanced dataset"
   ]
  },
  {
   "cell_type": "code",
   "execution_count": 7,
   "metadata": {},
   "outputs": [
    {
     "name": "stdout",
     "output_type": "stream",
     "text": [
      "Number of samples:  7336\n",
      "y\n",
      "no     3668\n",
      "yes     451\n",
      "Name: count, dtype: int64\n"
     ]
    }
   ],
   "source": [
    "from imblearn.over_sampling import RandomOverSampler \n",
    "\n",
    "X = df.drop(columns=['y'])  # Assuming 'y' is the target variable\n",
    "y = df['y']\n",
    "class_counts = y.value_counts()\n",
    "ratio = class_counts['no'] / class_counts['yes']\n",
    "if ratio > 1:\n",
    "    oversampler = RandomOverSampler(sampling_strategy={'yes': class_counts['no']})\n",
    "    X_resampled, y_resampled = oversampler.fit_resample(X, y)\n",
    "    df = pd.concat([X_resampled, y_resampled], axis=1)\n",
    "    print ('Number of samples: ',len(df))\n",
    "\n",
    "#checking number of \"yes\" and \"no\"'s\n",
    "print(y.value_counts())\n",
    "\n"
   ]
  },
  {
   "cell_type": "markdown",
   "metadata": {},
   "source": [
    "Data Preprocessing:"
   ]
  },
  {
   "cell_type": "code",
   "execution_count": 8,
   "metadata": {},
   "outputs": [
    {
     "name": "stdout",
     "output_type": "stream",
     "text": [
      "Training set: (3295, 31)\n",
      "Testing set: (824, 31)\n"
     ]
    }
   ],
   "source": [
    "# Define lists of categorical and numerical columns\n",
    "categorical_cols = ['job', 'marital', 'education', 'housing', 'loan', 'contact', 'poutcome']\n",
    "numerical_cols = ['age', 'campaign', 'pdays', 'previous', 'emp.var.rate', 'cons.price.idx', 'cons.conf.idx', 'nr.employed', 'duration']\n",
    "\n",
    "# Encode categorical variables using one-hot encoding\n",
    "X_encoded = pd.get_dummies(X, columns=categorical_cols, drop_first=True)\n",
    "\n",
    "# Perform feature scaling on numerical columns\n",
    "scaler = StandardScaler()\n",
    "X_scaled = scaler.fit_transform(X_encoded[numerical_cols])\n",
    "\n",
    "# Combine scaled numerical features and encoded categorical features\n",
    "X_final = np.concatenate([X_scaled, X_encoded.drop(columns=numerical_cols).values], axis=1)\n",
    "\n",
    "# Split the data into training and testing sets for better performance\n",
    "X_train, X_test, y_train, y_test = train_test_split(X_final, y, test_size=0.2, random_state=42)\n",
    "\n",
    "print(\"Training set:\", X_train.shape)\n",
    "print(\"Testing set:\", X_test.shape)\n"
   ]
  },
  {
   "cell_type": "markdown",
   "metadata": {},
   "source": [
    "Feature selection"
   ]
  },
  {
   "cell_type": "code",
   "execution_count": 9,
   "metadata": {},
   "outputs": [],
   "source": [
    "from sklearn.feature_selection import SelectKBest, f_classif\n",
    "\n",
    "# Perform feature selection using SelectKBest and ANOVA F-value\n",
    "feature_selector = SelectKBest(score_func=f_classif, k=10)\n",
    "X_train_selected = feature_selector.fit_transform(X_train, y_train)\n",
    "X_test_selected = feature_selector.transform(X_test)\n"
   ]
  },
  {
   "cell_type": "markdown",
   "metadata": {},
   "source": [
    "Model Selection:\n",
    "For model selection, we compare the performance of three different models: logistic regression, random forest, and a neural network to find the best one."
   ]
  },
  {
   "cell_type": "code",
   "execution_count": 10,
   "metadata": {},
   "outputs": [
    {
     "name": "stdout",
     "output_type": "stream",
     "text": [
      "Logistic Regression Classification Report:\n",
      "              precision    recall  f1-score   support\n",
      "\n",
      "          no       0.92      0.97      0.95       732\n",
      "         yes       0.62      0.37      0.46        92\n",
      "\n",
      "    accuracy                           0.90       824\n",
      "   macro avg       0.77      0.67      0.70       824\n",
      "weighted avg       0.89      0.90      0.89       824\n",
      "\n"
     ]
    }
   ],
   "source": [
    "#logistic regression\n",
    "from sklearn.linear_model import LogisticRegression\n",
    "from sklearn.metrics import classification_report\n",
    "\n",
    "# Initialize and train logistic regression model\n",
    "logistic_model = LogisticRegression()\n",
    "logistic_model.fit(X_train_selected, y_train)\n",
    "\n",
    "# Make predictions on the test set\n",
    "y_pred_logistic = logistic_model.predict(X_test_selected)\n",
    "\n",
    "# Evaluate the logistic regression model\n",
    "print(\"Logistic Regression Classification Report:\")\n",
    "print(classification_report(y_test, y_pred_logistic))\n"
   ]
  },
  {
   "cell_type": "code",
   "execution_count": 11,
   "metadata": {},
   "outputs": [
    {
     "name": "stdout",
     "output_type": "stream",
     "text": [
      "Random Forest Classification Report:\n",
      "              precision    recall  f1-score   support\n",
      "\n",
      "          no       0.93      0.95      0.94       732\n",
      "         yes       0.52      0.42      0.47        92\n",
      "\n",
      "    accuracy                           0.89       824\n",
      "   macro avg       0.72      0.69      0.70       824\n",
      "weighted avg       0.88      0.89      0.89       824\n",
      "\n"
     ]
    }
   ],
   "source": [
    "#Random Forest\n",
    "from sklearn.ensemble import RandomForestClassifier\n",
    "\n",
    "# Initialize and train random forest classifier\n",
    "random_forest_model = RandomForestClassifier()\n",
    "random_forest_model.fit(X_train_selected, y_train)\n",
    "\n",
    "# Make predictions on the test set\n",
    "y_pred_rf = random_forest_model.predict(X_test_selected)\n",
    "\n",
    "# Evaluate the random forest model\n",
    "print(\"Random Forest Classification Report:\")\n",
    "print(classification_report(y_test, y_pred_rf))\n"
   ]
  },
  {
   "cell_type": "code",
   "execution_count": 12,
   "metadata": {},
   "outputs": [
    {
     "name": "stdout",
     "output_type": "stream",
     "text": [
      "Neural Network Classification Report:\n",
      "              precision    recall  f1-score   support\n",
      "\n",
      "          no       0.93      0.96      0.95       732\n",
      "         yes       0.58      0.43      0.50        92\n",
      "\n",
      "    accuracy                           0.90       824\n",
      "   macro avg       0.76      0.70      0.72       824\n",
      "weighted avg       0.89      0.90      0.90       824\n",
      "\n"
     ]
    }
   ],
   "source": [
    "#neural network\n",
    "from sklearn.neural_network import MLPClassifier\n",
    "\n",
    "# Initialize and train neural network classifier\n",
    "nn_model = MLPClassifier()\n",
    "nn_model.fit(X_train_selected, y_train)\n",
    "\n",
    "# Make predictions on the test set\n",
    "y_pred_nn = nn_model.predict(X_test_selected)\n",
    "\n",
    "# Evaluate the neural network model\n",
    "print(\"Neural Network Classification Report:\")\n",
    "print(classification_report(y_test, y_pred_nn))\n"
   ]
  },
  {
   "cell_type": "code",
   "execution_count": 13,
   "metadata": {},
   "outputs": [],
   "source": [
    "from sklearn.metrics import accuracy_score\n",
    "\n",
    "# Assuming y_pred_lr, y_pred_rf, and y_pred_nn contain the predicted labels for each model\n",
    "accuracy_lr = accuracy_score(y_test, y_pred_logistic)\n",
    "accuracy_rf = accuracy_score(y_test, y_pred_rf)\n",
    "accuracy_nn = accuracy_score(y_test, y_pred_nn)\n"
   ]
  },
  {
   "cell_type": "markdown",
   "metadata": {},
   "source": [
    "Evaluating models"
   ]
  },
  {
   "cell_type": "code",
   "execution_count": 14,
   "metadata": {},
   "outputs": [
    {
     "data": {
      "image/png": "[encoded data removed]",
      "text/plain": [
       "<Figure size 800x600 with 1 Axes>"
      ]
     },
     "metadata": {},
     "output_type": "display_data"
    }
   ],
   "source": [
    "import matplotlib.pyplot as plt\n",
    "\n",
    "# Define model names and their accuracies\n",
    "model_names = ['Logistic Regression', 'Random Forest', 'Neural Network']\n",
    "accuracies = [accuracy_lr, accuracy_rf, accuracy_nn]\n",
    "\n",
    "# Plotting\n",
    "plt.figure(figsize=(8, 6))\n",
    "plt.bar(model_names, accuracies, color=['blue', 'green', 'orange'])\n",
    "plt.xlabel('Model')\n",
    "plt.ylabel('Accuracy')\n",
    "plt.title('Model Comparison by Accuracy')\n",
    "plt.ylim(0.85, 1.0)  # Set y-axis limits to ensure clear visualization of differences\n",
    "plt.show()\n"
   ]
  },
  {
   "cell_type": "markdown",
   "metadata": {},
   "source": [
    "We selected Random Forest and proceed with hyperparameter tuning for the Random Forest model"
   ]
  },
  {
   "cell_type": "code",
   "execution_count": 15,
   "metadata": {},
   "outputs": [
    {
     "name": "stdout",
     "output_type": "stream",
     "text": [
      "Best Hyperparameters for Random Forest: {'max_depth': 20, 'min_samples_leaf': 4, 'min_samples_split': 10, 'n_estimators': 100}\n",
      "Accuracy of Random Forest: 0.9016990291262136\n",
      "              precision    recall  f1-score   support\n",
      "\n",
      "          no       0.92      0.97      0.95       732\n",
      "         yes       0.60      0.36      0.45        92\n",
      "\n",
      "    accuracy                           0.90       824\n",
      "   macro avg       0.76      0.66      0.70       824\n",
      "weighted avg       0.89      0.90      0.89       824\n",
      "\n",
      "Confusion Matrix:\n",
      "[[710  22]\n",
      " [ 59  33]]\n"
     ]
    }
   ],
   "source": [
    "from sklearn.ensemble import RandomForestClassifier\n",
    "from sklearn.model_selection import GridSearchCV\n",
    "\n",
    "# Define the Random Forest classifier\n",
    "rf_classifier = RandomForestClassifier(random_state=42)\n",
    "\n",
    "# Define the hyperparameter grid to search over\n",
    "param_grid_rf = {\n",
    "    'n_estimators': [50, 100, 200],\n",
    "    'max_depth': [None, 10, 20],\n",
    "    'min_samples_split': [2, 5, 10],\n",
    "    'min_samples_leaf': [1, 2, 4]\n",
    "}\n",
    "\n",
    "# Perform Grid Search CV with 5-fold cross-validation\n",
    "grid_search_rf = GridSearchCV(estimator=rf_classifier, param_grid=param_grid_rf, cv=5, scoring='accuracy', n_jobs=-1)\n",
    "\n",
    "# Fit the grid search to the training data\n",
    "grid_search_rf.fit(X_train, y_train)\n",
    "\n",
    "# Get the best hyperparameters\n",
    "best_params_rf = grid_search_rf.best_params_\n",
    "print(\"Best Hyperparameters for Random Forest:\", best_params_rf)\n",
    "\n",
    "# Get the best model\n",
    "best_rf_model = grid_search_rf.best_estimator_\n",
    "\n",
    "# Make predictions on the test set\n",
    "y_pred_rf = best_rf_model.predict(X_test)\n",
    "\n",
    "# Evaluate the model\n",
    "accuracy_rf = metrics.accuracy_score(y_test, y_pred_rf)\n",
    "print(\"Accuracy of Random Forest:\", accuracy_rf)\n",
    "\n",
    "# Other evaluation metrics (classification report, confusion matrix, etc.)\n",
    "print(metrics.classification_report(y_test, y_pred_rf))\n",
    "print(\"Confusion Matrix:\")\n",
    "print(metrics.confusion_matrix(y_test, y_pred_rf))\n"
   ]
  },
  {
   "cell_type": "code",
   "execution_count": 19,
   "metadata": {},
   "outputs": [
    {
     "name": "stdout",
     "output_type": "stream",
     "text": [
      "Model saved to: bank-additional.sav\n"
     ]
    }
   ],
   "source": [
    "import joblib\n",
    "from sklearn.ensemble import RandomForestClassifier\n",
    "\n",
    "def train_and_save_model(X_train, y_train, best_params):\n",
    "    # Define and train the Random Forest model with the best hyperparameters\n",
    "    final_model = RandomForestClassifier(**best_params, random_state=42)  \n",
    "    final_model.fit(X_train, y_train)\n",
    "    \n",
    "    # Save the trained model to a file\n",
    "    filename = 'bank-additional.sav'\n",
    "    with open(filename, 'wb') as file:\n",
    "        joblib.dump(final_model, file)\n",
    "    \n",
    "    return filename\n",
    "\n",
    "# Example usage:\n",
    "# Assuming you have X_train, y_train, and best_params_rf defined elsewhere\n",
    "resulting_file = train_and_save_model(X_train, y_train, best_params_rf)\n",
    "print(\"Model saved to:\",resulting_file )\n"
   ]
  }
 ],
 "metadata": {
  "kernelspec": {
   "display_name": "Python 3",
   "language": "python",
   "name": "python3"
  },
  "language_info": {
   "codemirror_mode": {
    "name": "ipython",
    "version": 3
   },
   "file_extension": ".py",
   "mimetype": "text/x-python",
   "name": "python",
   "nbconvert_exporter": "python",
   "pygments_lexer": "ipython3",
   "version": "3.11.3"
  }
 },
 "nbformat": 4,
 "nbformat_minor": 2
}
